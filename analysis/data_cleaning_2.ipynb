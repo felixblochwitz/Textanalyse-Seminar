{
 "cells": [
  {
   "cell_type": "markdown",
   "metadata": {},
   "source": [
    "## Schritt 1: Entfernen aller Quellen, die mit weniger als 75 Artikeln vertreten sind"
   ]
  },
  {
   "cell_type": "code",
   "execution_count": 15,
   "metadata": {},
   "outputs": [],
   "source": [
    "import pandas as pd\n",
    "df = pd.read_csv('cleaned.csv')"
   ]
  },
  {
   "cell_type": "code",
   "execution_count": 16,
   "metadata": {},
   "outputs": [],
   "source": [
    "# entfernen aller aller Einträge, die Publikationen beinhalten, die seltener als 75 mal vorkommen\n",
    "df = df.groupby('publication').filter(lambda x: len(x) > 74)"
   ]
  },
  {
   "cell_type": "markdown",
   "metadata": {},
   "source": [
    "## Schritt 2: Identifikation ausländischer Quellen und entfernen dieser aus dem Datensatz"
   ]
  },
  {
   "cell_type": "code",
   "execution_count": 17,
   "metadata": {},
   "outputs": [
    {
     "output_type": "execute_result",
     "data": {
      "text/plain": "array(['Der Tagesspiegel', 'Giessener Anzeiger (Germany)', 'BILD Bund',\n       'B.Z.', 'Rheinische Post', 'Nürnberger Nachrichten',\n       'Täglicher Hafenbericht', 'General-Anzeiger (Bonn)',\n       'Luxemburger Wort', 'Stuttgarter Nachrichten',\n       'Stuttgarter Zeitung',\n       'Passauer Neue Presse (Stadt und Landkreis Passau)',\n       'Der Bayerwald-Bote', 'Kölnische Rundschau',\n       'Alt-Neuöttinger Anzeiger',\n       'Märkische Oderzeitung Frankfurter Stadtbote (Oder)',\n       'Lausitzer Rundschau', 'Berliner Zeitung',\n       'Mitteldeutsche Zeitung', 'Kölner Express', 'Bote der Urschweiz',\n       'Urner Zeitung', 'Zuger Zeitung', 'Werdenberger Obertoggenburger',\n       'Tagblatt für den Kanton Thurgau', 'Luzerner Zeitung',\n       'Neue Zürcher Zeitung (Internationale Ausgabe) & NZZ am Sonntag',\n       'Lauterbacher Anzeiger (Germany)',\n       'St.Galler Tagblatt (Stammausgabe)', 'Appenzeller Zeitung',\n       'Rheintaler', 'Wiler Zeitung', 'Toggenburger Tagblatt',\n       'Tages-Anzeiger', 'Die Welt', 'Solinger Morgenpost',\n       'Bergische Morgenpost', 'Neuss Grevenbroicher Zeitung',\n       'Nordwest-Zeitung', 'Allgemeine Zeitung (Germany)',\n       'Kölner Stadt-Anzeiger', 'Kreis Anzeiger (Germany)',\n       'Südwest Presse', 'Aachener Zeitung', 'Aachener Nachrichten',\n       'Oranienburger Generalanzeiger', 'taz, die tageszeitung',\n       'Sächsische Zeitung Regionalausgaben', 'Berliner Kurier',\n       'Welt am Sonntag', 'Wiesbadener Kurier (Germany)',\n       'Idsteiner Zeitung (Germany)', 'Odenwälder Echo',\n       'Oberhessische Zeitung (Germany)', 'Darmstädter Echo',\n       'Groß-Gerauer Echo', 'Wormser Zeitung (Germany)',\n       'Starkenburger Echo', 'Nürnberger Zeitung',\n       'Main-Spitze (Germany)', 'Lampertheimer Zeitung (Germany)',\n       'Usinger Anzeiger (Germany)', 'Nidwaldner Zeitung', 'Die Presse',\n       'Blick', 'Obwaldner Zeitung', 'Der Standard',\n       'Bürstädter Zeitung (Germany)',\n       'Sächsische Zeitung Stammausgabe Dresden', 'Hamburger Morgenpost',\n       'Die ZEIT (inklusive ZEIT Magazin)'], dtype=object)"
     },
     "metadata": {},
     "execution_count": 17
    }
   ],
   "source": [
    "df.publication.unique()"
   ]
  },
  {
   "cell_type": "code",
   "execution_count": 19,
   "metadata": {},
   "outputs": [
    {
     "output_type": "execute_result",
     "data": {
      "text/plain": "             date                                              title  \\\n0      2020-03-30          #coronageschichten Systemrelevant am Rand   \n1      2020-03-25  (Doch) kein Corona-Toter im Landkreis; Falsche...   \n2      2020-04-29  (K)eine Gefahr Das Schweizer Bundesamt für Ges...   \n4      2020-04-09                                     (Un)besiegbar?   \n5      2020-03-14   + + + News -Ticker + + +; Bahn erstattet Tickets   \n...           ...                                                ...   \n26481  2020-03-27  â•žKein Drama, aber zermÃ¼rbendâ•œ; Pandemie E...   \n26482  2020-03-31  â•žKein ganz harmloser Fallâ•œ; Verwaltung Der...   \n26483  2020-03-06  â•žNicht jeder Infizierte ist sofort anstecken...   \n26484  2020-04-06  â•žWeckruf zur Bescheidenheitâ•œ; Pandemie Der...   \n26485  2020-04-04  â•žWir tun alles, was mÃ¶glich istâ•œ; Bundesr...   \n\n                        publication publication_type  \\\n0                  Der Tagesspiegel          Zeitung   \n1      Giessener Anzeiger (Germany)          Zeitung   \n2                  Der Tagesspiegel          Zeitung   \n4                  Der Tagesspiegel          Zeitung   \n5                         BILD Bund          Zeitung   \n...                             ...              ...   \n26481                Südwest Presse          Zeitung   \n26482                Südwest Presse          Zeitung   \n26483                Südwest Presse          Zeitung   \n26484                Südwest Presse          Zeitung   \n26485                Südwest Presse          Zeitung   \n\n                                                    body  \\\n0      Wir möchten wissen, wie Sie, unsere Leserinnen...   \n1      KREIS GIESSEN. Groß war am Dienstagnachmittag ...   \n2      Bundesfamilienministerin Franziska Giffey (SPD...   \n4      Remdesivir, Chloroquin oder Blutplasma von Gen...   \n5      Die Bahn weitet ihre Kulanz-Regelung für Kunde...   \n...                                                  ...   \n26481  Ulm. Tag sieben, sagt Martina Dach. Es ist Tag...   \n26482  Es war fast schon prophetisch. Im Gemeinderat ...   \n26483  Ob gewÃ¶hnliche Influenza, Schweinegrippe oder...   \n26484  Ã—rzte sind in diesen virulenten Tagen an alle...   \n26485  Es ist beklemmend ruhig im Berliner Regierungs...   \n\n                                                  author  \\\n0                                                    NaN   \n1                                                    NaN   \n2      Richard Friebe, Jan Herbermann, Sascha Karberg...   \n4                                                    NaN   \n5                                                    NaN   \n...                                                  ...   \n26481                                                NaN   \n26482                                                NaN   \n26483                                                NaN   \n26484                                                NaN   \n26485                                                NaN   \n\n                                            content_tags  \\\n0      ÄRZTE (90%); PHYSIO- UND ERGOTHERAPIE (76%); C...   \n1      TOD & STERBEN (90%); CORONAVIRUS \\r\\nCOVID-19\\...   \n2      CORONAVIRUS \\r\\nCOVID-19\\r\\n (94%); KINDERBETR...   \n4                     CORONAVIRUS \\r\\nCOVID-19\\r\\n (85%)   \n5      CORONAVIRUS \\r\\nCOVID-19\\r\\n (94%); MEDIZINPRO...   \n...                                                  ...   \n26481  PANDEMIEN (90%); INFEKTIONSKRANKHEITEN (90%); ...   \n26482  CORONAVIRUS \\r\\nCOVID-19\\r\\n (92%); CORONAVIRE...   \n26483  CORONAVIRUS \\r\\nCOVID-19\\r\\n (92%); CORONAVIRE...   \n26484  EPIDEMIEN (94%); GESCHICHTE (91%); CORONAVIRUS...   \n26485  POLITIK (90%); ISOLATION & QUARANTÄNE (90%); B...   \n\n                                                geo_tags         language  \n0                                                    NaN  GERMAN; DEUTSCH  \n1      WIESBADEN, DEUTSCHLAND (58%); HESSEN, DEUTSCHL...  GERMAN; DEUTSCH  \n2      BERN, SCHWEIZ (72%); WUHAN, CHINA (58%); GENF,...  GERMAN; DEUTSCH  \n4                                                    NaN  GERMAN; DEUTSCH  \n5      ROM, ITALIEN (75%); LÜBECK, DEUTSCHLAND (55%);...  GERMAN; DEUTSCH  \n...                                                  ...              ...  \n26481                                                NaN  GERMAN; DEUTSCH  \n26482                                                NaN  GERMAN; DEUTSCH  \n26483                             ULM, DEUTSCHLAND (88%)  GERMAN; DEUTSCH  \n26484  ULM, DEUTSCHLAND (73%); HAMBURG, DEUTSCHLAND (...  GERMAN; DEUTSCH  \n26485                                  DEUTSCHLAND (58%)  GERMAN; DEUTSCH  \n\n[18348 rows x 9 columns]",
      "text/html": "<div>\n<style scoped>\n    .dataframe tbody tr th:only-of-type {\n        vertical-align: middle;\n    }\n\n    .dataframe tbody tr th {\n        vertical-align: top;\n    }\n\n    .dataframe thead th {\n        text-align: right;\n    }\n</style>\n<table border=\"1\" class=\"dataframe\">\n  <thead>\n    <tr style=\"text-align: right;\">\n      <th></th>\n      <th>date</th>\n      <th>title</th>\n      <th>publication</th>\n      <th>publication_type</th>\n      <th>body</th>\n      <th>author</th>\n      <th>content_tags</th>\n      <th>geo_tags</th>\n      <th>language</th>\n    </tr>\n  </thead>\n  <tbody>\n    <tr>\n      <th>0</th>\n      <td>2020-03-30</td>\n      <td>#coronageschichten Systemrelevant am Rand</td>\n      <td>Der Tagesspiegel</td>\n      <td>Zeitung</td>\n      <td>Wir möchten wissen, wie Sie, unsere Leserinnen...</td>\n      <td>NaN</td>\n      <td>ÄRZTE (90%); PHYSIO- UND ERGOTHERAPIE (76%); C...</td>\n      <td>NaN</td>\n      <td>GERMAN; DEUTSCH</td>\n    </tr>\n    <tr>\n      <th>1</th>\n      <td>2020-03-25</td>\n      <td>(Doch) kein Corona-Toter im Landkreis; Falsche...</td>\n      <td>Giessener Anzeiger (Germany)</td>\n      <td>Zeitung</td>\n      <td>KREIS GIESSEN. Groß war am Dienstagnachmittag ...</td>\n      <td>NaN</td>\n      <td>TOD &amp; STERBEN (90%); CORONAVIRUS \\r\\nCOVID-19\\...</td>\n      <td>WIESBADEN, DEUTSCHLAND (58%); HESSEN, DEUTSCHL...</td>\n      <td>GERMAN; DEUTSCH</td>\n    </tr>\n    <tr>\n      <th>2</th>\n      <td>2020-04-29</td>\n      <td>(K)eine Gefahr Das Schweizer Bundesamt für Ges...</td>\n      <td>Der Tagesspiegel</td>\n      <td>Zeitung</td>\n      <td>Bundesfamilienministerin Franziska Giffey (SPD...</td>\n      <td>Richard Friebe, Jan Herbermann, Sascha Karberg...</td>\n      <td>CORONAVIRUS \\r\\nCOVID-19\\r\\n (94%); KINDERBETR...</td>\n      <td>BERN, SCHWEIZ (72%); WUHAN, CHINA (58%); GENF,...</td>\n      <td>GERMAN; DEUTSCH</td>\n    </tr>\n    <tr>\n      <th>4</th>\n      <td>2020-04-09</td>\n      <td>(Un)besiegbar?</td>\n      <td>Der Tagesspiegel</td>\n      <td>Zeitung</td>\n      <td>Remdesivir, Chloroquin oder Blutplasma von Gen...</td>\n      <td>NaN</td>\n      <td>CORONAVIRUS \\r\\nCOVID-19\\r\\n (85%)</td>\n      <td>NaN</td>\n      <td>GERMAN; DEUTSCH</td>\n    </tr>\n    <tr>\n      <th>5</th>\n      <td>2020-03-14</td>\n      <td>+ + + News -Ticker + + +; Bahn erstattet Tickets</td>\n      <td>BILD Bund</td>\n      <td>Zeitung</td>\n      <td>Die Bahn weitet ihre Kulanz-Regelung für Kunde...</td>\n      <td>NaN</td>\n      <td>CORONAVIRUS \\r\\nCOVID-19\\r\\n (94%); MEDIZINPRO...</td>\n      <td>ROM, ITALIEN (75%); LÜBECK, DEUTSCHLAND (55%);...</td>\n      <td>GERMAN; DEUTSCH</td>\n    </tr>\n    <tr>\n      <th>...</th>\n      <td>...</td>\n      <td>...</td>\n      <td>...</td>\n      <td>...</td>\n      <td>...</td>\n      <td>...</td>\n      <td>...</td>\n      <td>...</td>\n      <td>...</td>\n    </tr>\n    <tr>\n      <th>26481</th>\n      <td>2020-03-27</td>\n      <td>â•žKein Drama, aber zermÃ¼rbendâ•œ; Pandemie E...</td>\n      <td>Südwest Presse</td>\n      <td>Zeitung</td>\n      <td>Ulm. Tag sieben, sagt Martina Dach. Es ist Tag...</td>\n      <td>NaN</td>\n      <td>PANDEMIEN (90%); INFEKTIONSKRANKHEITEN (90%); ...</td>\n      <td>NaN</td>\n      <td>GERMAN; DEUTSCH</td>\n    </tr>\n    <tr>\n      <th>26482</th>\n      <td>2020-03-31</td>\n      <td>â•žKein ganz harmloser Fallâ•œ; Verwaltung Der...</td>\n      <td>Südwest Presse</td>\n      <td>Zeitung</td>\n      <td>Es war fast schon prophetisch. Im Gemeinderat ...</td>\n      <td>NaN</td>\n      <td>CORONAVIRUS \\r\\nCOVID-19\\r\\n (92%); CORONAVIRE...</td>\n      <td>NaN</td>\n      <td>GERMAN; DEUTSCH</td>\n    </tr>\n    <tr>\n      <th>26483</th>\n      <td>2020-03-06</td>\n      <td>â•žNicht jeder Infizierte ist sofort anstecken...</td>\n      <td>Südwest Presse</td>\n      <td>Zeitung</td>\n      <td>Ob gewÃ¶hnliche Influenza, Schweinegrippe oder...</td>\n      <td>NaN</td>\n      <td>CORONAVIRUS \\r\\nCOVID-19\\r\\n (92%); CORONAVIRE...</td>\n      <td>ULM, DEUTSCHLAND (88%)</td>\n      <td>GERMAN; DEUTSCH</td>\n    </tr>\n    <tr>\n      <th>26484</th>\n      <td>2020-04-06</td>\n      <td>â•žWeckruf zur Bescheidenheitâ•œ; Pandemie Der...</td>\n      <td>Südwest Presse</td>\n      <td>Zeitung</td>\n      <td>Ã—rzte sind in diesen virulenten Tagen an alle...</td>\n      <td>NaN</td>\n      <td>EPIDEMIEN (94%); GESCHICHTE (91%); CORONAVIRUS...</td>\n      <td>ULM, DEUTSCHLAND (73%); HAMBURG, DEUTSCHLAND (...</td>\n      <td>GERMAN; DEUTSCH</td>\n    </tr>\n    <tr>\n      <th>26485</th>\n      <td>2020-04-04</td>\n      <td>â•žWir tun alles, was mÃ¶glich istâ•œ; Bundesr...</td>\n      <td>Südwest Presse</td>\n      <td>Zeitung</td>\n      <td>Es ist beklemmend ruhig im Berliner Regierungs...</td>\n      <td>NaN</td>\n      <td>POLITIK (90%); ISOLATION &amp; QUARANTÄNE (90%); B...</td>\n      <td>DEUTSCHLAND (58%)</td>\n      <td>GERMAN; DEUTSCH</td>\n    </tr>\n  </tbody>\n</table>\n<p>18348 rows × 9 columns</p>\n</div>"
     },
     "metadata": {},
     "execution_count": 19
    }
   ],
   "source": [
    "ausl_quellen = ['Luxemburger Wort', 'Bote der Urschweiz', 'Urner Zeitung', 'Zuger Zeitung', 'Werdenberger Obertoggenburger', 'Tagblatt für den Kanton Thurgau', 'Luzerner Zeitung', 'Neue Zürcher Zeitung (Internationale Ausgabe) & NZZ am Sonntag', 'St.Galler Tagblatt (Stammausgabe)', 'Appenzeller Zeitung', 'Rheintaler', 'Wiler Zeitung', 'Toggenburger Tagblatt', 'Tages-Anzeiger', 'Nidwaldner Zeitung', 'Die Presse', 'Blick', 'Der Standard']\n",
    "df = df[~df['publication'].isin(ausl_quellen)]\n",
    "df"
   ]
  },
  {
   "cell_type": "code",
   "execution_count": 20,
   "metadata": {},
   "outputs": [
    {
     "output_type": "execute_result",
     "data": {
      "text/plain": "array(['Der Tagesspiegel', 'Giessener Anzeiger (Germany)', 'BILD Bund',\n       'B.Z.', 'Rheinische Post', 'Nürnberger Nachrichten',\n       'Täglicher Hafenbericht', 'General-Anzeiger (Bonn)',\n       'Stuttgarter Nachrichten', 'Stuttgarter Zeitung',\n       'Passauer Neue Presse (Stadt und Landkreis Passau)',\n       'Der Bayerwald-Bote', 'Kölnische Rundschau',\n       'Alt-Neuöttinger Anzeiger',\n       'Märkische Oderzeitung Frankfurter Stadtbote (Oder)',\n       'Lausitzer Rundschau', 'Berliner Zeitung',\n       'Mitteldeutsche Zeitung', 'Kölner Express',\n       'Lauterbacher Anzeiger (Germany)', 'Die Welt',\n       'Solinger Morgenpost', 'Bergische Morgenpost',\n       'Neuss Grevenbroicher Zeitung', 'Nordwest-Zeitung',\n       'Allgemeine Zeitung (Germany)', 'Kölner Stadt-Anzeiger',\n       'Kreis Anzeiger (Germany)', 'Südwest Presse', 'Aachener Zeitung',\n       'Aachener Nachrichten', 'Oranienburger Generalanzeiger',\n       'taz, die tageszeitung', 'Sächsische Zeitung Regionalausgaben',\n       'Berliner Kurier', 'Welt am Sonntag',\n       'Wiesbadener Kurier (Germany)', 'Idsteiner Zeitung (Germany)',\n       'Odenwälder Echo', 'Oberhessische Zeitung (Germany)',\n       'Darmstädter Echo', 'Groß-Gerauer Echo',\n       'Wormser Zeitung (Germany)', 'Starkenburger Echo',\n       'Nürnberger Zeitung', 'Main-Spitze (Germany)',\n       'Lampertheimer Zeitung (Germany)', 'Usinger Anzeiger (Germany)',\n       'Obwaldner Zeitung', 'Bürstädter Zeitung (Germany)',\n       'Sächsische Zeitung Stammausgabe Dresden', 'Hamburger Morgenpost',\n       'Die ZEIT (inklusive ZEIT Magazin)'], dtype=object)"
     },
     "metadata": {},
     "execution_count": 20
    }
   ],
   "source": [
    "df.publication.unique()"
   ]
  },
  {
   "cell_type": "code",
   "execution_count": 11,
   "metadata": {},
   "outputs": [
    {
     "output_type": "execute_result",
     "data": {
      "text/plain": "             date                                              title  \\\n0      2020-03-30          #coronageschichten Systemrelevant am Rand   \n2      2020-04-29  (K)eine Gefahr Das Schweizer Bundesamt für Ges...   \n4      2020-04-09                                     (Un)besiegbar?   \n5      2020-03-14   + + + News -Ticker + + +; Bahn erstattet Tickets   \n10     2020-03-17    + + + News-Ticker + + +; Notstand im Pflegeheim   \n...           ...                                                ...   \n26456  2020-05-04  \"Zu wenig Räume und Lehrkräfte - das rächt sic...   \n26462  2020-04-01  \"Zweistelliger Millionenbetrag im Minus\"; Köln...   \n26463  2020-03-13  \"Zynischer Versuch, von der eigenen Untätigkei...   \n26471  2020-04-25  \"Ästhetik war Aufgabe des Mannes\"; Hilary Mant...   \n26472  2020-01-30  \"Äußerst beunruhigend\"; Die Ausbreitung des ne...   \n\n                 publication publication_type  \\\n0           Der Tagesspiegel          Zeitung   \n2           Der Tagesspiegel          Zeitung   \n4           Der Tagesspiegel          Zeitung   \n5                  BILD Bund          Zeitung   \n10                 BILD Bund          Zeitung   \n...                      ...              ...   \n26456       Der Tagesspiegel          Zeitung   \n26462  Kölner Stadt-Anzeiger          Zeitung   \n26463               Die Welt          Zeitung   \n26471               Die Welt          Zeitung   \n26472       Berliner Zeitung          Zeitung   \n\n                                                    body  \\\n0      Wir möchten wissen, wie Sie, unsere Leserinnen...   \n2      Bundesfamilienministerin Franziska Giffey (SPD...   \n4      Remdesivir, Chloroquin oder Blutplasma von Gen...   \n5      Die Bahn weitet ihre Kulanz-Regelung für Kunde...   \n10     In Hamburg starb gestern Wolfgang H. (76) im \"...   \n...                                                  ...   \n26456  Frau Kapek, Sie mussten bereits zweimal in Qua...   \n26462  Herr Böse, nahezu alle Messen des ersten Halbj...   \n26463  Noch am Dienstag dieser Woche herrschte im Aus...   \n26471  Verlassen liegt der Strand von Devon vor dem H...   \n26472  VON ANNE VORBRINGER    \\r\\n   Die Zahl der Pat...   \n\n                                                  author  \\\n0                                                    NaN   \n2      Richard Friebe, Jan Herbermann, Sascha Karberg...   \n4                                                    NaN   \n5                                                    NaN   \n10                                                   NaN   \n...                                                  ...   \n26456                                                NaN   \n26462                                 THORSTEN BREITKOPF   \n26463                                    Thomas Vitzthum   \n26471                                    Stefanie Bolzen   \n26472                                    Anne Vorbringer   \n\n                                            content_tags  \\\n0      ÄRZTE (90%); PHYSIO- UND ERGOTHERAPIE (76%); C...   \n2      CORONAVIRUS \\r\\nCOVID-19\\r\\n (94%); KINDERBETR...   \n4                     CORONAVIRUS \\r\\nCOVID-19\\r\\n (85%)   \n5      CORONAVIRUS \\r\\nCOVID-19\\r\\n (94%); MEDIZINPRO...   \n10     CORONAVIRUS \\r\\nCOVID-19\\r\\n (92%); LEBENSMITT...   \n...                                                  ...   \n26456  CORONAVIRUS \\r\\nCOVID-19\\r\\n (92%); ANGESTELLT...   \n26462  MESSEN (90%); CORONAVIRUS \\r\\nCOVID-19\\r\\n (90...   \n26463  EUROPÄISCHE UNION (91%); US-PRÄSIDENTEN (90%);...   \n26471  INTERVIEWS (90%); ROMANE & KURZGESCHICHTEN (90...   \n26472  KRANKHEITEN & GESUNDHEITLICHE BESCHWERDEN (90%...   \n\n                                                geo_tags         language  \n0                                                    NaN  GERMAN; DEUTSCH  \n2      BERN, SCHWEIZ (72%); WUHAN, CHINA (58%); GENF,...  GERMAN; DEUTSCH  \n4                                                    NaN  GERMAN; DEUTSCH  \n5      ROM, ITALIEN (75%); LÜBECK, DEUTSCHLAND (55%);...  GERMAN; DEUTSCH  \n10     HAMBURG, DEUTSCHLAND (58%); THÜRINGEN, DEUTSCH...  GERMAN; DEUTSCH  \n...                                                  ...              ...  \n26456  BERLIN, DEUTSCHLAND (88%); BRANDENBURG, DEUTSC...  GERMAN; DEUTSCH  \n26462  KÖLN, DEUTSCHLAND (91%); NORDRHEIN-WESTFALEN, ...  GERMAN; DEUTSCH  \n26463  PITTSBURGH, PA, USA (78%); BERLIN, DEUTSCHLAND...  GERMAN; DEUTSCH  \n26471  ENGLAND (73%)\\r\\nPage 5 of 5\\r\\n\"Ästhetik war ...  GERMAN; DEUTSCH  \n26472  BAYERN, DEUTSCHLAND (73%); CHINA (88%); DEUTSC...  GERMAN; DEUTSCH  \n\n[4600 rows x 9 columns]",
      "text/html": "<div>\n<style scoped>\n    .dataframe tbody tr th:only-of-type {\n        vertical-align: middle;\n    }\n\n    .dataframe tbody tr th {\n        vertical-align: top;\n    }\n\n    .dataframe thead th {\n        text-align: right;\n    }\n</style>\n<table border=\"1\" class=\"dataframe\">\n  <thead>\n    <tr style=\"text-align: right;\">\n      <th></th>\n      <th>date</th>\n      <th>title</th>\n      <th>publication</th>\n      <th>publication_type</th>\n      <th>body</th>\n      <th>author</th>\n      <th>content_tags</th>\n      <th>geo_tags</th>\n      <th>language</th>\n    </tr>\n  </thead>\n  <tbody>\n    <tr>\n      <th>0</th>\n      <td>2020-03-30</td>\n      <td>#coronageschichten Systemrelevant am Rand</td>\n      <td>Der Tagesspiegel</td>\n      <td>Zeitung</td>\n      <td>Wir möchten wissen, wie Sie, unsere Leserinnen...</td>\n      <td>NaN</td>\n      <td>ÄRZTE (90%); PHYSIO- UND ERGOTHERAPIE (76%); C...</td>\n      <td>NaN</td>\n      <td>GERMAN; DEUTSCH</td>\n    </tr>\n    <tr>\n      <th>2</th>\n      <td>2020-04-29</td>\n      <td>(K)eine Gefahr Das Schweizer Bundesamt für Ges...</td>\n      <td>Der Tagesspiegel</td>\n      <td>Zeitung</td>\n      <td>Bundesfamilienministerin Franziska Giffey (SPD...</td>\n      <td>Richard Friebe, Jan Herbermann, Sascha Karberg...</td>\n      <td>CORONAVIRUS \\r\\nCOVID-19\\r\\n (94%); KINDERBETR...</td>\n      <td>BERN, SCHWEIZ (72%); WUHAN, CHINA (58%); GENF,...</td>\n      <td>GERMAN; DEUTSCH</td>\n    </tr>\n    <tr>\n      <th>4</th>\n      <td>2020-04-09</td>\n      <td>(Un)besiegbar?</td>\n      <td>Der Tagesspiegel</td>\n      <td>Zeitung</td>\n      <td>Remdesivir, Chloroquin oder Blutplasma von Gen...</td>\n      <td>NaN</td>\n      <td>CORONAVIRUS \\r\\nCOVID-19\\r\\n (85%)</td>\n      <td>NaN</td>\n      <td>GERMAN; DEUTSCH</td>\n    </tr>\n    <tr>\n      <th>5</th>\n      <td>2020-03-14</td>\n      <td>+ + + News -Ticker + + +; Bahn erstattet Tickets</td>\n      <td>BILD Bund</td>\n      <td>Zeitung</td>\n      <td>Die Bahn weitet ihre Kulanz-Regelung für Kunde...</td>\n      <td>NaN</td>\n      <td>CORONAVIRUS \\r\\nCOVID-19\\r\\n (94%); MEDIZINPRO...</td>\n      <td>ROM, ITALIEN (75%); LÜBECK, DEUTSCHLAND (55%);...</td>\n      <td>GERMAN; DEUTSCH</td>\n    </tr>\n    <tr>\n      <th>10</th>\n      <td>2020-03-17</td>\n      <td>+ + + News-Ticker + + +; Notstand im Pflegeheim</td>\n      <td>BILD Bund</td>\n      <td>Zeitung</td>\n      <td>In Hamburg starb gestern Wolfgang H. (76) im \"...</td>\n      <td>NaN</td>\n      <td>CORONAVIRUS \\r\\nCOVID-19\\r\\n (92%); LEBENSMITT...</td>\n      <td>HAMBURG, DEUTSCHLAND (58%); THÜRINGEN, DEUTSCH...</td>\n      <td>GERMAN; DEUTSCH</td>\n    </tr>\n    <tr>\n      <th>...</th>\n      <td>...</td>\n      <td>...</td>\n      <td>...</td>\n      <td>...</td>\n      <td>...</td>\n      <td>...</td>\n      <td>...</td>\n      <td>...</td>\n      <td>...</td>\n    </tr>\n    <tr>\n      <th>26456</th>\n      <td>2020-05-04</td>\n      <td>\"Zu wenig Räume und Lehrkräfte - das rächt sic...</td>\n      <td>Der Tagesspiegel</td>\n      <td>Zeitung</td>\n      <td>Frau Kapek, Sie mussten bereits zweimal in Qua...</td>\n      <td>NaN</td>\n      <td>CORONAVIRUS \\r\\nCOVID-19\\r\\n (92%); ANGESTELLT...</td>\n      <td>BERLIN, DEUTSCHLAND (88%); BRANDENBURG, DEUTSC...</td>\n      <td>GERMAN; DEUTSCH</td>\n    </tr>\n    <tr>\n      <th>26462</th>\n      <td>2020-04-01</td>\n      <td>\"Zweistelliger Millionenbetrag im Minus\"; Köln...</td>\n      <td>Kölner Stadt-Anzeiger</td>\n      <td>Zeitung</td>\n      <td>Herr Böse, nahezu alle Messen des ersten Halbj...</td>\n      <td>THORSTEN BREITKOPF</td>\n      <td>MESSEN (90%); CORONAVIRUS \\r\\nCOVID-19\\r\\n (90...</td>\n      <td>KÖLN, DEUTSCHLAND (91%); NORDRHEIN-WESTFALEN, ...</td>\n      <td>GERMAN; DEUTSCH</td>\n    </tr>\n    <tr>\n      <th>26463</th>\n      <td>2020-03-13</td>\n      <td>\"Zynischer Versuch, von der eigenen Untätigkei...</td>\n      <td>Die Welt</td>\n      <td>Zeitung</td>\n      <td>Noch am Dienstag dieser Woche herrschte im Aus...</td>\n      <td>Thomas Vitzthum</td>\n      <td>EUROPÄISCHE UNION (91%); US-PRÄSIDENTEN (90%);...</td>\n      <td>PITTSBURGH, PA, USA (78%); BERLIN, DEUTSCHLAND...</td>\n      <td>GERMAN; DEUTSCH</td>\n    </tr>\n    <tr>\n      <th>26471</th>\n      <td>2020-04-25</td>\n      <td>\"Ästhetik war Aufgabe des Mannes\"; Hilary Mant...</td>\n      <td>Die Welt</td>\n      <td>Zeitung</td>\n      <td>Verlassen liegt der Strand von Devon vor dem H...</td>\n      <td>Stefanie Bolzen</td>\n      <td>INTERVIEWS (90%); ROMANE &amp; KURZGESCHICHTEN (90...</td>\n      <td>ENGLAND (73%)\\r\\nPage 5 of 5\\r\\n\"Ästhetik war ...</td>\n      <td>GERMAN; DEUTSCH</td>\n    </tr>\n    <tr>\n      <th>26472</th>\n      <td>2020-01-30</td>\n      <td>\"Äußerst beunruhigend\"; Die Ausbreitung des ne...</td>\n      <td>Berliner Zeitung</td>\n      <td>Zeitung</td>\n      <td>VON ANNE VORBRINGER    \\r\\n   Die Zahl der Pat...</td>\n      <td>Anne Vorbringer</td>\n      <td>KRANKHEITEN &amp; GESUNDHEITLICHE BESCHWERDEN (90%...</td>\n      <td>BAYERN, DEUTSCHLAND (73%); CHINA (88%); DEUTSC...</td>\n      <td>GERMAN; DEUTSCH</td>\n    </tr>\n  </tbody>\n</table>\n<p>4600 rows × 9 columns</p>\n</div>"
     },
     "metadata": {},
     "execution_count": 11
    }
   ],
   "source": [
    "ueber_reg_quellen = [\"Der Tagesspiegel\", \"BILD Bund\", \"Stuttgarter Nachrichten\", \"Stuttgarter Zeitung\", \"Berliner Zeitung\", \"Die Welt\", \"Allgemeine Zeitung\", \"Kölner Stadt-Anzeiger\", \"taz, die tageszeitung\", \"Welt am Sonntag\", \"Die ZEIT (inklusive ZEIT Magazin)\", \"Nürnberger Nachrichten\", \"Sächsische Zeitung Stammausgabe Dresden\"]\n",
    "df = df[df['publication'].isin(ueber_reg_quellen)]\n",
    "df"
   ]
  },
  {
   "cell_type": "code",
   "execution_count": 14,
   "metadata": {},
   "outputs": [
    {
     "output_type": "execute_result",
     "data": {
      "text/plain": "Kölner Stadt-Anzeiger                      790\nDer Tagesspiegel                           776\ntaz, die tageszeitung                      554\nDie Welt                                   532\nStuttgarter Zeitung                        503\nBerliner Zeitung                           461\nStuttgarter Nachrichten                    375\nNürnberger Nachrichten                     177\nSächsische Zeitung Stammausgabe Dresden    139\nWelt am Sonntag                             98\nDie ZEIT (inklusive ZEIT Magazin)           98\nBILD Bund                                   97\nName: publication, dtype: int64"
     },
     "metadata": {},
     "execution_count": 14
    }
   ],
   "source": [
    "df.publication.value_counts()"
   ]
  },
  {
   "cell_type": "code",
   "execution_count": 21,
   "metadata": {},
   "outputs": [],
   "source": [
    "df.to_csv('cleaned_final.csv', encoding='utf-8', sep=',', index=False)"
   ]
  },
  {
   "cell_type": "code",
   "execution_count": null,
   "metadata": {},
   "outputs": [],
   "source": []
  }
 ],
 "metadata": {
  "language_info": {
   "codemirror_mode": {
    "name": "ipython",
    "version": 3
   },
   "file_extension": ".py",
   "mimetype": "text/x-python",
   "name": "python",
   "nbconvert_exporter": "python",
   "pygments_lexer": "ipython3",
   "version": "3.8.3-final"
  },
  "orig_nbformat": 2,
  "kernelspec": {
   "name": "python38364bita4aad1ff007740edbcfe71dcc1b39ca1",
   "display_name": "Python 3.8.3 64-bit"
  }
 },
 "nbformat": 4,
 "nbformat_minor": 2
}