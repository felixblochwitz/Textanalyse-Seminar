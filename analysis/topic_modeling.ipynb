{
 "cells": [
  {
   "cell_type": "code",
   "execution_count": 1,
   "metadata": {},
   "outputs": [],
   "source": [
    "import pandas as pd\n",
    "from gensim.test.utils import common_corpus, common_dictionary\n",
    "from gensim.models import HdpModel\n",
    "from stop_words import get_stop_words"
   ]
  },
  {
   "cell_type": "code",
   "execution_count": 2,
   "metadata": {},
   "outputs": [],
   "source": [
    "# loading data set and creating corpus for topic modelling\n",
    "df = pd.read_csv('cleaned_final.csv')\n",
    "lst = df.loc[:, 'body'].tolist()"
   ]
  },
  {
   "cell_type": "code",
   "execution_count": 3,
   "metadata": {},
   "outputs": [
    {
     "output_type": "execute_result",
     "data": {
      "text/plain": "18348"
     },
     "metadata": {},
     "execution_count": 3
    }
   ],
   "source": [
    "# stripping words of punctuation with translate() and\n",
    "# creating list of words in lower case of each text if word is not in stop word list\n",
    "import string\n",
    "table = str.maketrans(dict.fromkeys(string.punctuation))\n",
    "stoplist = get_stop_words('german')\n",
    "stoplist.append('page')\n",
    "stoplist = stoplist + get_stop_words('french') + get_stop_words('english') + get_stop_words('pt')\n",
    "texts = [[word for word in text.translate(table).lower().split() if word not in stoplist and not word.isdigit()] for text in lst if type(text) is not float]\n",
    "len(texts)"
   ]
  },
  {
   "cell_type": "code",
   "execution_count": 4,
   "metadata": {},
   "outputs": [],
   "source": [
    "from collections import defaultdict\n",
    "frequency = defaultdict(int)\n",
    "for text in texts:\n",
    "    for token in text:\n",
    "        frequency[token] += 1"
   ]
  },
  {
   "cell_type": "code",
   "execution_count": 5,
   "metadata": {},
   "outputs": [],
   "source": [
    "processed_corpus = [[token for token in text if frequency[token] > 1] for text in texts]\n",
    "from gensim import corpora\n",
    "dictionary = corpora.Dictionary(processed_corpus)"
   ]
  },
  {
   "cell_type": "code",
   "execution_count": 6,
   "metadata": {},
   "outputs": [],
   "source": [
    "# vectorize porcessed corpus\n",
    "bow_corpus = [dictionary.doc2bow(text) for text in processed_corpus]"
   ]
  },
  {
   "cell_type": "code",
   "execution_count": 7,
   "metadata": {},
   "outputs": [],
   "source": [
    "from gensim.models import HdpModel\n",
    "\n",
    "hdp = HdpModel(bow_corpus, dictionary)"
   ]
  },
  {
   "cell_type": "code",
   "execution_count": 9,
   "metadata": {},
   "outputs": [
    {
     "output_type": "execute_result",
     "data": {
      "text/plain": "[(0,\n  '0.005*menschen + 0.005*covid19 + 0.005*mehr + 0.004*sei + 0.003*coronavirus + 0.003*virus + 0.003*gibt + 0.003*patienten + 0.003*sagt + 0.003*viele'),\n (1,\n  '0.008*covid19 + 0.006*menschen + 0.004*patienten + 0.004*coronavirus + 0.004*mehr + 0.004*sagt + 0.004*sei + 0.004*zahl + 0.003*gibt + 0.003*personen'),\n (2,\n  '0.005*mehr + 0.005*patienten + 0.004*covid19 + 0.004*menschen + 0.004*virus + 0.003*sagt + 0.003*schon + 0.003*coronavirus + 0.003*viele + 0.003*gibt'),\n (3,\n  '0.004*covid19 + 0.003*tour + 0.003*sagt + 0.002*mehr + 0.002*menschen + 0.002*zwei + 0.002*wurden + 0.002*sei + 0.002*wochen + 0.002*coronavirus'),\n (4,\n  '0.004*ioc + 0.003*mehr + 0.003*covid19 + 0.003*welt + 0.002*sagte + 0.002*pandemie + 0.002*jahr + 0.002*schon + 0.002*absage + 0.002*menschen'),\n (5,\n  '0.009*personen + 0.005*menschen + 0.005*covid19 + 0.005*landkreis + 0.004*quarantäne + 0.004*zahl + 0.003*kreis + 0.003*aktuell + 0.003*positiv + 0.003*insgesamt'),\n (6,\n  '0.013*worms + 0.012*vg + 0.009*landkreis + 0.009*personen + 0.007*alzeyworms + 0.007*stadt + 0.006*menschen + 0.004*zahl + 0.004*covid19 + 0.004*fälle'),\n (7,\n  '0.006*horn + 0.005*las + 0.005*roy + 0.005*vegas + 0.003*fischbacher + 0.003*siegfried + 0.003*wurde + 0.003*sagte + 0.002*freund + 0.002*geborene'),\n (8,\n  '0.005*trump + 0.002*new + 0.002*warum + 0.002*frage + 0.002*krise + 0.002*kushner + 0.002*millionen + 0.001*mehr + 0.001*haus + 0.001*weißen'),\n (9,\n  '0.003*covid19 + 0.003*kreis + 0.003*genesen + 0.002*menschen + 0.002*mettmann + 0.002*tage + 0.002*zahl + 0.002*inzidenz + 0.002*neun + 0.001*aktuelle'),\n (10,\n  '0.004*coronavirus + 0.003*sagte + 0.003*spahn + 0.003*menschen + 0.003*mehr + 0.002*sonntag + 0.002*rund + 0.002*sei + 0.002*angaben + 0.002*zahl'),\n (11,\n  '0.002*italien + 0.002*infizierten + 0.002*seien + 0.002*lombardei + 0.002*menschen + 0.001*maßnahmen + 0.001*covid19 + 0.001*conte + 0.001*patienten + 0.001*viele'),\n (12,\n  '0.002*menschen + 0.002*big + 0.002*bayer + 0.001*wenning + 0.001*bereits + 0.001*quarantäne + 0.001*wurden + 0.001*bewohner + 0.001*schon + 0.001*covid19'),\n (13,\n  '0.002*streeck + 0.002*gibt + 0.001*virus + 0.001*mehr + 0.001*frage + 0.001*aktuell + 0.001*personen + 0.001*müssen + 0.001*viele + 0.001*zahl'),\n (14,\n  '0.002*corona + 0.002*euro + 0.001*virus + 0.001*uhr + 0.001*mehr + 0.001*verbraucherzentrale + 0.001*schon + 0.001*spray + 0.001*beim + 0.001*desinfektionsmittel'),\n (15,\n  '0.002*prozent + 0.001*menschen + 0.001*wochen + 0.001*covid19 + 0.001*schon + 0.001*bewohner + 0.001*viele + 0.001*usa + 0.001*impfstoff + 0.001*dollar'),\n (16,\n  '0.001*laschet + 0.001*menschen + 0.001*seit + 0.001*pflanzen + 0.001*mehr + 0.001*erde + 0.001*müssen + 0.001*zahl + 0.001*jahren + 0.001*covid19'),\n (17,\n  '0.002*kreis + 0.001*gaß + 0.001*kliniken + 0.001*menschen + 0.001*patienten + 0.001*quarantäne + 0.001*mehr + 0.001*worden + 0.001*g7 + 0.001*sagte'),\n (18,\n  '0.002*coronavirus + 0.002*landkreis + 0.002*bewohner + 0.002*atrium + 0.001*sei + 0.001*wall + 0.001*seniorenzentrum + 0.001*mitarbeiter + 0.001*wildeshausen + 0.001*worden'),\n (19,\n  '0.003*deutschland + 0.003*infektionen + 0.002*menschen + 0.002*mehr + 0.002*todesfälle + 0.002*zahlen + 0.002*zahl + 0.002*gestorben + 0.002*schweden + 0.002*skandinavischen')]"
     },
     "metadata": {},
     "execution_count": 9
    }
   ],
   "source": [
    "hdp.print_topics(num_topics = 20,  num_words = 10)"
   ]
  }
 ],
 "metadata": {
  "language_info": {
   "codemirror_mode": {
    "name": "ipython",
    "version": 3
   },
   "file_extension": ".py",
   "mimetype": "text/x-python",
   "name": "python",
   "nbconvert_exporter": "python",
   "pygments_lexer": "ipython3",
   "version": "3.8.3-final"
  },
  "orig_nbformat": 2,
  "kernelspec": {
   "name": "python38364bita4aad1ff007740edbcfe71dcc1b39ca1",
   "display_name": "Python 3.8.3 64-bit"
  }
 },
 "nbformat": 4,
 "nbformat_minor": 2
}